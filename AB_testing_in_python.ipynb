{
  "nbformat": 4,
  "nbformat_minor": 0,
  "metadata": {
    "colab": {
      "provenance": [],
      "collapsed_sections": [],
      "mount_file_id": "1cY230haH1PmSnRULDKQvHdAyfWjIxngh",
      "authorship_tag": "ABX9TyMfKgt9MYzegBdfrbhDHIMz",
      "include_colab_link": true
    },
    "kernelspec": {
      "name": "python3",
      "display_name": "Python 3"
    },
    "language_info": {
      "name": "python"
    }
  },
  "cells": [
    {
      "cell_type": "markdown",
      "metadata": {
        "id": "view-in-github",
        "colab_type": "text"
      },
      "source": [
        "<a href=\"https://colab.research.google.com/github/aimat163/python/blob/main/AB_testing_in_python.ipynb\" target=\"_parent\"><img src=\"https://colab.research.google.com/assets/colab-badge.svg\" alt=\"Open In Colab\"/></a>"
      ]
    },
    {
      "cell_type": "markdown",
      "source": [
        "**Расчет окна конверсии на исторических данных**"
      ],
      "metadata": {
        "id": "Z_T5kC8K-MlA"
      }
    },
    {
      "cell_type": "code",
      "execution_count": null,
      "metadata": {
        "id": "oEI5F-7t-Apy"
      },
      "outputs": [],
      "source": [
        "import pandas as pd"
      ]
    },
    {
      "cell_type": "markdown",
      "source": [
        "Грузим файлы csv, приводим названия столбцов для inner к единому виду"
      ],
      "metadata": {
        "id": "sEnO9AVdiBBr"
      }
    },
    {
      "cell_type": "code",
      "source": [
        "df1 = pd.read_csv('/content/drive/MyDrive/Colab Notebooks/Отчет из Rick.ai_ Список транзакций - Sheet1.csv')\n",
        "df2 = pd.read_csv('/content/drive/MyDrive/Colab Notebooks/Query - Sheet1 (1).csv')\n",
        "\n",
        "df1.rename(columns={'ga:clientID\\n': 'ga:clientID'}, inplace=True)\n",
        "df1.rename(columns={'deal created at, UTC+04:00\\nвремя из запроса /create в\\nпараметре created_at': 'deal_created_at'}, inplace=True)"
      ],
      "metadata": {
        "id": "3QBSOWOt-jDO"
      },
      "execution_count": null,
      "outputs": []
    },
    {
      "cell_type": "markdown",
      "source": [
        "Приводим дату сессии и дату заказа к единому виду\n",
        "\n"
      ],
      "metadata": {
        "id": "x2CNZGXsiafo"
      }
    },
    {
      "cell_type": "code",
      "source": [
        "df2['ga:date']= pd.to_datetime(df2['ga:date'].astype('string'), format='%Y/%m/%d') "
      ],
      "metadata": {
        "id": "VChdR7WMIO-r"
      },
      "execution_count": null,
      "outputs": []
    },
    {
      "cell_type": "code",
      "source": [
        "df1['deal_created_at'] = pd.to_datetime(df1['deal_created_at'], infer_datetime_format=True) #infer_datetime_format - автоматическое распознавание формата даты"
      ],
      "metadata": {
        "id": "psazw1gqP8ku"
      },
      "execution_count": null,
      "outputs": []
    },
    {
      "cell_type": "code",
      "source": [
        "df1[\"deal_created_at\"] = df1[\"deal_created_at\"].dt.floor(\"D\") #оставляем только дата-месяц-год"
      ],
      "metadata": {
        "id": "4hTWF07VhQDi"
      },
      "execution_count": null,
      "outputs": []
    },
    {
      "cell_type": "markdown",
      "source": [
        "Матчим две таблицы по ключу ga:client_id"
      ],
      "metadata": {
        "id": "PN0mEwNTiRG3"
      }
    },
    {
      "cell_type": "code",
      "source": [
        "inner_join = pd.merge(df1, \n",
        "                      df2, \n",
        "                      on ='ga:clientID', \n",
        "                      how ='inner')"
      ],
      "metadata": {
        "id": "LBkXsblNHdAT"
      },
      "execution_count": null,
      "outputs": []
    }
  ]
}