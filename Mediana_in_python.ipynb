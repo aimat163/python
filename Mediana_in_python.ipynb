{
  "nbformat": 4,
  "nbformat_minor": 0,
  "metadata": {
    "colab": {
      "provenance": [],
      "include_colab_link": true
    },
    "kernelspec": {
      "name": "python3",
      "display_name": "Python 3"
    },
    "language_info": {
      "name": "python"
    }
  },
  "cells": [
    {
      "cell_type": "markdown",
      "metadata": {
        "id": "view-in-github",
        "colab_type": "text"
      },
      "source": [
        "<a href=\"https://colab.research.google.com/github/aimat163/python/blob/main/Mediana_in_python.ipynb\" target=\"_parent\"><img src=\"https://colab.research.google.com/assets/colab-badge.svg\" alt=\"Open In Colab\"/></a>"
      ]
    },
    {
      "cell_type": "markdown",
      "source": [
        "Медиана через класс"
      ],
      "metadata": {
        "id": "ccF4Xa8_cBh5"
      }
    },
    {
      "cell_type": "code",
      "execution_count": 35,
      "metadata": {
        "id": "TAKDmDgWQCFS",
        "colab": {
          "base_uri": "https://localhost:8080/"
        },
        "outputId": "3da6b2fc-5a85-4772-e759-ead4ceaa6878"
      },
      "outputs": [
        {
          "output_type": "stream",
          "name": "stdout",
          "text": [
            "5\n"
          ]
        }
      ],
      "source": [
        "numbers = [1, 2, 3, 4, 5, 6, 7, 10, 30] #cписок значений\n",
        "\n",
        "class Answer: #создаем класс\n",
        "     def FindMedian(self, data): #создаем функцию\n",
        "      sorted_data = sorted(data) #сортируем данные\n",
        "      data_len = len(sorted_data) #считаем количество значений в списке\n",
        "\n",
        "      if len(sorted_data) == 0: #проверка на нулевой список, возвращает None\n",
        "           return \n",
        "      if data_len % 2 == 0:\n",
        "           return(sorted_data[data_len//2]+sorted_data[data_len//2+1]/2) #расчет медианы если количество значений в списке четное\n",
        "      else:\n",
        "           return(sorted_data[data_len//2]) #расчет медианы если количество значений в списке нечетное\n",
        "\n",
        "print(Answer().FindMedian(numbers))"
      ]
    },
    {
      "cell_type": "markdown",
      "source": [
        "Медиана через модуль statistics"
      ],
      "metadata": {
        "id": "rc6p3K_a6iqA"
      }
    },
    {
      "cell_type": "code",
      "source": [
        "import statistics\n",
        "\n",
        "numbers = [1, 2, 3, 4, 5, 6, 7, 10, 30]\n",
        "med = statistics.median(numbers)\n",
        "print(med)"
      ],
      "metadata": {
        "colab": {
          "base_uri": "https://localhost:8080/"
        },
        "id": "F9UUJh7l6nbt",
        "outputId": "b49a8759-3717-4579-c2de-f48fceb331c7"
      },
      "execution_count": null,
      "outputs": [
        {
          "output_type": "stream",
          "name": "stdout",
          "text": [
            "5\n"
          ]
        }
      ]
    }
  ]
}