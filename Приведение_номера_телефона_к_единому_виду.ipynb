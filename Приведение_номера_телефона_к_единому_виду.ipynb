{
  "nbformat": 4,
  "nbformat_minor": 0,
  "metadata": {
    "colab": {
      "provenance": [],
      "authorship_tag": "ABX9TyP0d4yB2Wh43SfCrdQ4X3oE",
      "include_colab_link": true
    },
    "kernelspec": {
      "name": "python3",
      "display_name": "Python 3"
    },
    "language_info": {
      "name": "python"
    }
  },
  "cells": [
    {
      "cell_type": "markdown",
      "metadata": {
        "id": "view-in-github",
        "colab_type": "text"
      },
      "source": [
        "<a href=\"https://colab.research.google.com/github/aimat163/python/blob/Research/%D0%9F%D1%80%D0%B8%D0%B2%D0%B5%D0%B4%D0%B5%D0%BD%D0%B8%D0%B5_%D0%BD%D0%BE%D0%BC%D0%B5%D1%80%D0%B0_%D1%82%D0%B5%D0%BB%D0%B5%D1%84%D0%BE%D0%BD%D0%B0_%D0%BA_%D0%B5%D0%B4%D0%B8%D0%BD%D0%BE%D0%BC%D1%83_%D0%B2%D0%B8%D0%B4%D1%83.ipynb\" target=\"_parent\"><img src=\"https://colab.research.google.com/assets/colab-badge.svg\" alt=\"Open In Colab\"/></a>"
      ]
    },
    {
      "cell_type": "code",
      "execution_count": null,
      "metadata": {
        "id": "6dngkLhMwGPm"
      },
      "outputs": [],
      "source": [
        "def phone_number(tel):\n",
        "    true_phone = ''\n",
        "    for digit in tel:\n",
        "      if digit in '1234567890':\n",
        "        true_phone += digit\n",
        "    return true_phone"
      ]
    },
    {
      "cell_type": "code",
      "source": [
        "phone_lis = []"
      ],
      "metadata": {
        "id": "QuehT0_XyiWK"
      },
      "execution_count": null,
      "outputs": []
    },
    {
      "cell_type": "code",
      "source": [
        "#применяем функцию\n",
        "\n",
        "list_of_phones = []\n",
        "for phone in phone_list:\n",
        "    new_phone = phone_number(phone)\n",
        "    list_of_phones.append(new_phone)\n",
        "new_phone_list"
      ],
      "metadata": {
        "id": "oiaTSPmoxtye"
      },
      "execution_count": null,
      "outputs": []
    }
  ]
}