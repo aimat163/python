{
  "nbformat": 4,
  "nbformat_minor": 0,
  "metadata": {
    "colab": {
      "provenance": [],
      "authorship_tag": "ABX9TyM4+O39d0BfpY9hs5Yu5h0r",
      "include_colab_link": true
    },
    "kernelspec": {
      "name": "python3",
      "display_name": "Python 3"
    },
    "language_info": {
      "name": "python"
    }
  },
  "cells": [
    {
      "cell_type": "markdown",
      "metadata": {
        "id": "view-in-github",
        "colab_type": "text"
      },
      "source": [
        "<a href=\"https://colab.research.google.com/github/aimat163/python/blob/main/%D0%9F%D1%80%D0%BE%D1%81%D1%82%D0%BE%D0%B9_%D0%BF%D0%B0%D1%80%D1%81%D0%B8%D0%BD%D0%B3_%D1%81%D1%82%D1%80%D0%B0%D0%BD%D0%B8%D1%86%D1%8B_%D0%BF%D0%BE_CSS_selector_c_Tilda.ipynb\" target=\"_parent\"><img src=\"https://colab.research.google.com/assets/colab-badge.svg\" alt=\"Open In Colab\"/></a>"
      ]
    },
    {
      "cell_type": "code",
      "execution_count": 2,
      "metadata": {
        "id": "42tCrodTmmV-"
      },
      "outputs": [],
      "source": [
        "from bs4 import BeautifulSoup\n",
        "import requests\n",
        "import pandas as pd"
      ]
    },
    {
      "cell_type": "code",
      "source": [
        "headers = {\"user-agent\": \"Mozilla/5.0 (Windows NT 10.0; Win64; x64) AppleWebKit/537.36 (KHTML, like Gecko) Chrome/88.0.4324.182 Safari/537.36\"}\n",
        "\n",
        "webpage = requests.get('https://antikor-color.ru/ognezashchita_dlya_dereva/ogneza',headers=headers)\n",
        "soup = BeautifulSoup(webpage.content, \"html.parser\")"
      ],
      "metadata": {
        "id": "Wzl_YQzam8R-"
      },
      "execution_count": 3,
      "outputs": []
    },
    {
      "cell_type": "code",
      "source": [
        "elements = soup.select(\"div > div.t778__title.t-name.t-name_xs.js-product-name > strong\")"
      ],
      "metadata": {
        "id": "W6WSWQiMv9Jw"
      },
      "execution_count": 20,
      "outputs": []
    },
    {
      "cell_type": "code",
      "source": [
        "print(elements)"
      ],
      "metadata": {
        "colab": {
          "base_uri": "https://localhost:8080/"
        },
        "id": "KHcb7cD0mtQL",
        "outputId": "a8036a32-af25-45da-a87d-c76864193c08"
      },
      "execution_count": 21,
      "outputs": [
        {
          "output_type": "stream",
          "name": "stdout",
          "text": [
            "[<strong>ОГНЕЗА-УМ-Д</strong>, <strong>ОГНЕЗА-УМ-Д</strong>, <strong>ОГНЕЗА-ВД-Д</strong>, <strong>ОГНЕЗА-ЛАК матовый</strong>, <strong>ОГНЕЗА-ЛАК глянцевый</strong>, <strong>ОГНЕЗА-ЛАК-ОД</strong>, <strong>ОГНЕЗА-ЛАК-ОД</strong>, <strong>ОГНЕЗА-ЛАК-ВД</strong>, <strong>ОГНЕЗА-ПО-Д с цветовым индикатором</strong>, <strong>ОГНЕЗА-ПО-Д<br/>красная</strong>, <strong>ОГНЕЗА-ПО-Д бесцветная</strong>, <strong>ОГНЕЗА-ПО-ПРОФ прозрачная</strong>, <strong>ОГНЕЗА-ПО-ПРОФ сухая водорастворимая</strong>, <strong>ОГНЕЗА-ПО-Д сухая водорастворимая</strong>]\n"
          ]
        }
      ]
    },
    {
      "cell_type": "code",
      "source": [
        "df = pd.DataFrame(elements)"
      ],
      "metadata": {
        "colab": {
          "base_uri": "https://localhost:8080/"
        },
        "id": "LSOn4oSls7r8",
        "outputId": "0184d41d-ac53-4e45-8bfe-1ba8c31c18e7"
      },
      "execution_count": 22,
      "outputs": [
        {
          "output_type": "stream",
          "name": "stderr",
          "text": [
            "/usr/local/lib/python3.8/dist-packages/pandas/core/internals/construction.py:540: VisibleDeprecationWarning: Creating an ndarray from ragged nested sequences (which is a list-or-tuple of lists-or-tuples-or ndarrays with different lengths or shapes) is deprecated. If you meant to do this, you must specify 'dtype=object' when creating the ndarray.\n",
            "  values = np.array([convert(v) for v in values])\n"
          ]
        }
      ]
    },
    {
      "cell_type": "code",
      "source": [
        "print(df)"
      ],
      "metadata": {
        "colab": {
          "base_uri": "https://localhost:8080/"
        },
        "id": "GA7q1OkmnxIb",
        "outputId": "c76ba445-3be9-486a-b35a-8e273d741f3f"
      },
      "execution_count": 23,
      "outputs": [
        {
          "output_type": "stream",
          "name": "stdout",
          "text": [
            "                                         0\n",
            "0                            [ОГНЕЗА-УМ-Д]\n",
            "1                            [ОГНЕЗА-УМ-Д]\n",
            "2                            [ОГНЕЗА-ВД-Д]\n",
            "3                     [ОГНЕЗА-ЛАК матовый]\n",
            "4                   [ОГНЕЗА-ЛАК глянцевый]\n",
            "5                          [ОГНЕЗА-ЛАК-ОД]\n",
            "6                          [ОГНЕЗА-ЛАК-ОД]\n",
            "7                          [ОГНЕЗА-ЛАК-ВД]\n",
            "8     [ОГНЕЗА-ПО-Д с цветовым индикатором]\n",
            "9               [ОГНЕЗА-ПО-Д, [], красная]\n",
            "10                [ОГНЕЗА-ПО-Д бесцветная]\n",
            "11             [ОГНЕЗА-ПО-ПРОФ прозрачная]\n",
            "12  [ОГНЕЗА-ПО-ПРОФ сухая водорастворимая]\n",
            "13     [ОГНЕЗА-ПО-Д сухая водорастворимая]\n"
          ]
        }
      ]
    }
  ]
}