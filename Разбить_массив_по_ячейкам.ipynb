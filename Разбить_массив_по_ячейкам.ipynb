{
  "nbformat": 4,
  "nbformat_minor": 0,
  "metadata": {
    "colab": {
      "provenance": [],
      "collapsed_sections": [],
      "include_colab_link": true
    },
    "kernelspec": {
      "name": "python3",
      "display_name": "Python 3"
    },
    "language_info": {
      "name": "python"
    }
  },
  "cells": [
    {
      "cell_type": "markdown",
      "metadata": {
        "id": "view-in-github",
        "colab_type": "text"
      },
      "source": [
        "<a href=\"https://colab.research.google.com/github/aimat163/python/blob/main/%D0%A0%D0%B0%D0%B7%D0%B1%D0%B8%D1%82%D1%8C_%D0%BC%D0%B0%D1%81%D1%81%D0%B8%D0%B2_%D0%BF%D0%BE_%D1%8F%D1%87%D0%B5%D0%B9%D0%BA%D0%B0%D0%BC.ipynb\" target=\"_parent\"><img src=\"https://colab.research.google.com/assets/colab-badge.svg\" alt=\"Open In Colab\"/></a>"
      ]
    },
    {
      "cell_type": "code",
      "source": [
        "from google.colab import drive\n",
        "drive.mount('/content/drive')"
      ],
      "metadata": {
        "colab": {
          "base_uri": "https://localhost:8080/"
        },
        "id": "urtaXvmTFmM1",
        "outputId": "dc1baf2d-0624-4d15-dffe-7f53ad0ca989"
      },
      "execution_count": 2,
      "outputs": [
        {
          "output_type": "stream",
          "name": "stdout",
          "text": [
            "Mounted at /content/drive\n"
          ]
        }
      ]
    },
    {
      "cell_type": "code",
      "execution_count": 3,
      "metadata": {
        "id": "K06iogcXEFDi"
      },
      "outputs": [],
      "source": [
        "import pandas as pd"
      ]
    },
    {
      "cell_type": "code",
      "source": [
        "df1 = pd.read_csv('/content/drive/MyDrive/Компании - монтажные компании от 10 млн. оборот.xlsx - Таблица.csv')"
      ],
      "metadata": {
        "id": "jVYw8sQNEG1w"
      },
      "execution_count": 4,
      "outputs": []
    },
    {
      "cell_type": "code",
      "source": [
        "df1.iloc[3]['email']"
      ],
      "metadata": {
        "id": "c0UKoJ2gFUyF",
        "colab": {
          "base_uri": "https://localhost:8080/",
          "height": 35
        },
        "outputId": "488da267-8832-4b0c-997c-b0103cb204cb"
      },
      "execution_count": 5,
      "outputs": [
        {
          "output_type": "execute_result",
          "data": {
            "text/plain": [
              "'termoline@termoline.org, thermoline@thermoline.org, petrovicheva@thermoline.org'"
            ],
            "application/vnd.google.colaboratory.intrinsic+json": {
              "type": "string"
            }
          },
          "metadata": {},
          "execution_count": 5
        }
      ]
    },
    {
      "cell_type": "code",
      "source": [
        "df = df1['email'].str.split(',')\n",
        "\n",
        "print(df)"
      ],
      "metadata": {
        "colab": {
          "base_uri": "https://localhost:8080/"
        },
        "id": "LTYV_OkLF_Bm",
        "outputId": "87e0a3fb-8099-4153-c72f-c5409d53353a"
      },
      "execution_count": 9,
      "outputs": [
        {
          "output_type": "stream",
          "name": "stdout",
          "text": [
            "0       [sapfirsk@mail.ru,  sapfir_tumen@mail.ru,  buh...\n",
            "1                                    [sale@thermocool.ru]\n",
            "2            [kord-info@mail.ru,  natasha13-06@yandex.ru]\n",
            "3       [termoline@termoline.org,  thermoline@thermoli...\n",
            "4                       [dmitri.dmitriev@caverion.spb.ru]\n",
            "                              ...                        \n",
            "2563                                [newresurs@yandex.ru]\n",
            "2564                                   [ustjusa1@mail.ru]\n",
            "2565              [ap.fadeev@mail.ru,  ap-fadeev@mail.ru]\n",
            "2566                              [myakicheva_nu@mail.ru]\n",
            "2567                                        [p_m_p@bk.ru]\n",
            "Name: email, Length: 2568, dtype: object\n"
          ]
        }
      ]
    },
    {
      "cell_type": "code",
      "source": [
        "df2 = df.explode('email')\n",
        "\n",
        "print(df2)"
      ],
      "metadata": {
        "id": "4P1w2XehNvGJ",
        "outputId": "641cbb8a-f36f-473d-9a95-8b1643c790be",
        "colab": {
          "base_uri": "https://localhost:8080/"
        }
      },
      "execution_count": 10,
      "outputs": [
        {
          "output_type": "stream",
          "name": "stdout",
          "text": [
            "0            sapfirsk@mail.ru\n",
            "1        sapfir_tumen@mail.ru\n",
            "2        buh-tmn@sapfir-m.com\n",
            "3          sale@thermocool.ru\n",
            "4           kord-info@mail.ru\n",
            "                ...          \n",
            "3964         ustjusa1@mail.ru\n",
            "3965        ap.fadeev@mail.ru\n",
            "3966        ap-fadeev@mail.ru\n",
            "3967    myakicheva_nu@mail.ru\n",
            "3968              p_m_p@bk.ru\n",
            "Name: email, Length: 3969, dtype: object\n"
          ]
        }
      ]
    },
    {
      "cell_type": "code",
      "source": [
        "df2.to_csv('emails_goppo.txt', index=False)"
      ],
      "metadata": {
        "id": "Gi6k6d3IOYD4"
      },
      "execution_count": 32,
      "outputs": []
    }
  ]
}